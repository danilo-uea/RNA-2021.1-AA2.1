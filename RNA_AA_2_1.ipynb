{
  "nbformat": 4,
  "nbformat_minor": 0,
  "metadata": {
    "colab": {
      "name": "RNA_AA_2_1.ipynb",
      "provenance": [],
      "include_colab_link": true
    },
    "kernelspec": {
      "name": "python3",
      "display_name": "Python 3"
    },
    "language_info": {
      "name": "python"
    }
  },
  "cells": [
    {
      "cell_type": "markdown",
      "metadata": {
        "id": "view-in-github",
        "colab_type": "text"
      },
      "source": [
        "<a href=\"https://colab.research.google.com/github/danilo-uea/RNA-2021.1-AA2.1/blob/main/RNA_AA_2_1.ipynb\" target=\"_parent\"><img src=\"https://colab.research.google.com/assets/colab-badge.svg\" alt=\"Open In Colab\"/></a>"
      ]
    },
    {
      "cell_type": "markdown",
      "metadata": {
        "id": "1Ok_1jxEk3L6"
      },
      "source": [
        "# Redes Neurais Artificiais - Atividade Avaliativa 2.1\n",
        "> Criado por: Danilo Frazão, Rafael Aragão Morais & Yasser Tuma\n",
        "\n",
        "\n"
      ]
    },
    {
      "cell_type": "code",
      "metadata": {
        "id": "wLxdD7AsVj4-"
      },
      "source": [
        "import numpy as np\n",
        "import random\n",
        "import math\n",
        "import matplotlib.pyplot as plt\n",
        "from prettytable import PrettyTable"
      ],
      "execution_count": null,
      "outputs": []
    },
    {
      "cell_type": "code",
      "metadata": {
        "id": "tqVvc9x1g5yD",
        "colab": {
          "base_uri": "https://localhost:8080/"
        },
        "outputId": "13f5bb0a-1788-4456-eae3-2cb136eb92f2"
      },
      "source": [
        "from google.colab import drive\n",
        "drive.mount('/content/drive')"
      ],
      "execution_count": null,
      "outputs": [
        {
          "output_type": "stream",
          "name": "stdout",
          "text": [
            "Mounted at /content/drive\n"
          ]
        }
      ]
    },
    {
      "cell_type": "markdown",
      "metadata": {
        "id": "g-alomggW4A3"
      },
      "source": [
        "###Importando os dados\n",
        "\n",
        "> O arquivo com os dados está armazenado em uma pasta do Google Drive, como é um arquivo em binario, iremos utilizar a biblioteca numpy para extrair os dados.\n",
        "\n"
      ]
    },
    {
      "cell_type": "code",
      "metadata": {
        "id": "mjras9tHKNdI"
      },
      "source": [
        "def import_data(path):\n",
        "  dt = np.dtype(float)\n",
        "  arq = np.fromfile(path, dtype=dt)\n",
        "\n",
        "  ret = np.empty((0, 3), float)\n",
        "\n",
        "  for i in range(0, len(arq), 3):\n",
        "    linha = np.array([[arq[i], arq[i+1], arq[i+2]]])\n",
        "    ret = np.append(ret, linha, axis=0)\n",
        "\n",
        "  return ret\n"
      ],
      "execution_count": null,
      "outputs": []
    },
    {
      "cell_type": "code",
      "metadata": {
        "id": "58Qj91d5W1Vh",
        "colab": {
          "base_uri": "https://localhost:8080/"
        },
        "outputId": "6c15a3e7-85af-41d4-96d4-a9a0d86119f2"
      },
      "source": [
        "drivePath = \"/content/drive/My Drive/Colab Notebooks/RNA/data/dataAll.txt\"\n",
        "data_All = import_data(drivePath)\n",
        "data_All"
      ],
      "execution_count": null,
      "outputs": [
        {
          "output_type": "execute_result",
          "data": {
            "text/plain": [
              "array([[-363.7884,  244.1423,    0.    ],\n",
              "       [ 328.7572, -256.7658,    1.    ],\n",
              "       [-164.9827,  613.2164,    0.    ],\n",
              "       ...,\n",
              "       [ 872.4311,  669.1192,    1.    ],\n",
              "       [ 822.6894, -702.6489,    1.    ],\n",
              "       [-140.147 ,  734.0983,    0.    ]])"
            ]
          },
          "metadata": {},
          "execution_count": 38
        }
      ]
    },
    {
      "cell_type": "markdown",
      "metadata": {
        "id": "jROMW1R4Ysuz"
      },
      "source": [
        "##Perceptron\n",
        "\n",
        "\n",
        "> As funções abaixo compõem o treinamento, ajuste dos pesos, de um Perceptron\n",
        "\n"
      ]
    },
    {
      "cell_type": "code",
      "metadata": {
        "id": "qn1KHjFYUwCK"
      },
      "source": [
        "def activationFunction(u, teta):\n",
        "  if(u >= teta):\n",
        "    return 1\n",
        "  else:\n",
        "    return 0"
      ],
      "execution_count": null,
      "outputs": []
    },
    {
      "cell_type": "code",
      "metadata": {
        "id": "uDJdoEQDBcA5"
      },
      "source": [
        "def sumFunction(X, W):\n",
        "  sum = 0\n",
        "  for x,w in zip(X,W):\n",
        "    sum += x*w\n",
        "  return sum"
      ],
      "execution_count": null,
      "outputs": []
    },
    {
      "cell_type": "code",
      "metadata": {
        "id": "Cc-2-A-jCmKK"
      },
      "source": [
        "def weightAdjustment(W, n, e, X):\n",
        "  delta = np.dot((n*e), X)\n",
        "  new_weight = np.add(W, delta);\n",
        "  return new_weight"
      ],
      "execution_count": null,
      "outputs": []
    },
    {
      "cell_type": "code",
      "metadata": {
        "id": "_SWqjn7TFPMd"
      },
      "source": [
        "def epoch(inputData, W, n, teta):\n",
        "  adjusts = 0;\n",
        "  weights = []\n",
        "  for idx, row in enumerate(inputData):\n",
        "    sum = sumFunction(row[:-1], W)\n",
        "    yp = activationFunction(sum, teta)\n",
        "    if(row[-1] != yp):\n",
        "      adjusts += 1;\n",
        "      W = weightAdjustment(W, n, (row[-1] - yp), row[:-1])\n",
        "      weights.append((idx, W))\n",
        "  return (adjusts, weights, W)\n",
        "\n"
      ],
      "execution_count": null,
      "outputs": []
    },
    {
      "cell_type": "code",
      "metadata": {
        "id": "175ZiDJCVTKS"
      },
      "source": [
        "def perceptronLearning(inputData, W, maxEpoch, n, teta):\n",
        "  epochCount = 0\n",
        "  adjustCount = 0\n",
        "  adjust = True\n",
        "  while(adjust):\n",
        "    epochCount += 1\n",
        "    (numAdjusts, oldWeights, W) = epoch(inputData, W, n, teta)\n",
        "\n",
        "    print(\"\\nNumero de epocas: \" + str(epochCount))\n",
        "    print(\"Numero de ajustes: \" + str(numAdjusts))\n",
        "    \n",
        "    adjustCount += numAdjusts\n",
        "    \n",
        "    if(numAdjusts == 0):\n",
        "      adjust = False #nao houve alteracoes nos valores dos pesos\n",
        "      print(\"Os pesos foram ajustados\")\n",
        "    else:\n",
        "      print(\"Pesos antigos e a linha em que foram alterados\")\n",
        "      for weight in oldWeights:\n",
        "        print(weight[1], \" - linha: \", weight[0])\n",
        "      if(epochCount == maxEpoch):\n",
        "        print(\"O limite maximo de epocas foi alcancado e nao foi possivel ajustar os pessos corretamente\")\n",
        "        break\n",
        "\n",
        "  print(\"\\nPesos finais: \", W)\n",
        "  print(\"Numero total de epocas: \" + str(epochCount))\n",
        "  print(\"Numero total de ajustes: \" + str(adjustCount))\n",
        "  return (W, epochCount, adjustCount)\n"
      ],
      "execution_count": null,
      "outputs": []
    },
    {
      "cell_type": "code",
      "metadata": {
        "id": "6dXhZhExL-gv"
      },
      "source": [
        "def addBias(inputData, bias):\n",
        "  nd= np.insert(inputData, 2, bias, axis=1)\n",
        "  return nd\n"
      ],
      "execution_count": null,
      "outputs": []
    },
    {
      "cell_type": "markdown",
      "metadata": {
        "id": "BPSOUUfm5IFI"
      },
      "source": [
        "## Parte I - Resolvendo um problema linearmente separavel\n",
        "\n",
        "\n",
        "\n",
        "> Para esta parte, iremos utilizar o arquivo dataAll.txt;\n",
        "\n",
        "> O neurônio perceptron terá as seguintes características:\n",
        "\n",
        "*   Função de ativação degrau com limiar = 0,\n",
        "\n",
        "*   Taxa de aprendizado = 0.1,\n",
        "\n",
        "*   Os pesos das entradas inicialmente serão valores aleatórios no intervalo de -0.5 e 0.5 .\n",
        "\n",
        "\n",
        "\n",
        "\n",
        "\n",
        "\n"
      ]
    },
    {
      "cell_type": "code",
      "metadata": {
        "colab": {
          "base_uri": "https://localhost:8080/"
        },
        "id": "L14IqwkNTjwF",
        "outputId": "b74ea8c6-9a25-4aa4-a5b5-0d89f2a69065"
      },
      "source": [
        "n_DataAll = 0.1 # taxa de aprendizado\n",
        "teta_DataAll = 0 #degrau\n",
        "w_DataAll = np.random.uniform(-0.5, 0.5, 3) #min, max, numero_de_valores\n",
        "print(\"Vetor de pesos iniciais: \")\n",
        "print(w_DataAll)\n",
        "data_All = addBias(data_All, 1)\n",
        "print(\"\\n\\nDados de entrada com o vies: \\n [x1, x2, vies, y] \\n\")\n",
        "data_All"
      ],
      "execution_count": null,
      "outputs": [
        {
          "output_type": "stream",
          "name": "stdout",
          "text": [
            "Vetor de pesos iniciais: \n",
            "[-0.49149664  0.13898449  0.33716801]\n",
            "\n",
            "\n",
            "Dados de entrada com o vies: \n",
            " [x1, x2, vies, y] \n",
            "\n"
          ]
        },
        {
          "output_type": "execute_result",
          "data": {
            "text/plain": [
              "array([[-363.7884,  244.1423,    1.    ,    0.    ],\n",
              "       [ 328.7572, -256.7658,    1.    ,    1.    ],\n",
              "       [-164.9827,  613.2164,    1.    ,    0.    ],\n",
              "       ...,\n",
              "       [ 872.4311,  669.1192,    1.    ,    1.    ],\n",
              "       [ 822.6894, -702.6489,    1.    ,    1.    ],\n",
              "       [-140.147 ,  734.0983,    1.    ,    0.    ]])"
            ]
          },
          "metadata": {},
          "execution_count": 39
        }
      ]
    },
    {
      "cell_type": "code",
      "metadata": {
        "id": "6nuKTAQGR-gq"
      },
      "source": [
        "(finalWeights, num_epochs, num_adjusts) = perceptronLearning(data_All, w_DataAll, 0, n_DataAll, teta_DataAll)"
      ],
      "execution_count": null,
      "outputs": []
    },
    {
      "cell_type": "code",
      "metadata": {
        "id": "V2FCxr-nhOkF"
      },
      "source": [
        "#grafico\n",
        "def plotLine(inputData, W):\n",
        "  h = []\n",
        "  v = []\n",
        "  for row in inputData:\n",
        "    h.append(row[0])\n",
        "    v.append(row[1])\n",
        "    if(row[-1] == 0):\n",
        "     plt.scatter(row[0], row[1], color='red')\n",
        "    else:\n",
        "      plt.scatter(row[0], row[1], color='blue')\n",
        "  plt.plot(h , v, 'o')\n",
        "\n",
        "plotLine(data_All, finalWeights)"
      ],
      "execution_count": null,
      "outputs": []
    },
    {
      "cell_type": "code",
      "metadata": {
        "id": "5k8u_-f0mnqi",
        "colab": {
          "base_uri": "https://localhost:8080/"
        },
        "outputId": "15b7e14a-543d-40ea-a513-d17342a60dc8"
      },
      "source": [
        "#plt.plot(, y, 'o', color='black');\n",
        "data_All[0]"
      ],
      "execution_count": null,
      "outputs": [
        {
          "output_type": "execute_result",
          "data": {
            "text/plain": [
              "array([-363.7884,  244.1423,    1.    ,    0.    ])"
            ]
          },
          "metadata": {},
          "execution_count": 57
        }
      ]
    },
    {
      "cell_type": "markdown",
      "metadata": {
        "id": "3-GZbdJroEfH"
      },
      "source": [
        "# Parte 2 - Experimentacao\n",
        "\n",
        "> Para esta parte, iremos utilizar o arquivo data0.txt;\n",
        "\n",
        "> O neurônio perceptron terá as seguintes características:\n",
        "\n",
        "*   Função de ativação degrau com limiar = 0,\n",
        "\n",
        "*   Taxa de aprendizado = {0.4, 0.1, 0.01},\n",
        "\n",
        "*   Os pesos das entradas inicialmente serão valores aleatórios no intervalo de {(-100,100) (-0.5 e 0.5)} ,\n",
        "\n",
        "*   Para cada combinação entre os possiveis valores da taxa de aprendizado e do intervalo inicial dos pesos, será realizada 10 interações.\n",
        "\n",
        "\n",
        "\n",
        "\n",
        "\n",
        "\n",
        "\n",
        "\n"
      ]
    },
    {
      "cell_type": "code",
      "metadata": {
        "colab": {
          "base_uri": "https://localhost:8080/"
        },
        "id": "qN10SFFlxoLI",
        "outputId": "6c1c502d-984b-4c4e-920b-bfbcee3b8e9a"
      },
      "source": [
        "drivePath2 = \"/content/drive/My Drive/Colab Notebooks/RNA/data/data0.txt\"\n",
        "data0 = import_data(drivePath2)\n",
        "data0"
      ],
      "execution_count": null,
      "outputs": [
        {
          "output_type": "execute_result",
          "data": {
            "text/plain": [
              "array([[-0.00149369, -0.03581784,  0.        ],\n",
              "       [ 0.01234945,  0.10249524,  0.        ],\n",
              "       [ 0.13954598,  0.05607083,  0.        ],\n",
              "       ...,\n",
              "       [ 0.95751872,  1.0035204 ,  1.        ],\n",
              "       [ 0.97981588,  1.00949493,  1.        ],\n",
              "       [ 1.02021556,  0.86533059,  1.        ]])"
            ]
          },
          "metadata": {},
          "execution_count": 65
        }
      ]
    },
    {
      "cell_type": "code",
      "metadata": {
        "id": "ljMMAc-Rza00"
      },
      "source": [
        "def perceptronLearningPart2(inputData, W, maxEpoch, n, teta):\n",
        "  epochCount = 0\n",
        "  adjustCount = 0\n",
        "  adjust = True\n",
        "  while(adjust):\n",
        "    epochCount += 1\n",
        "    (numAdjusts, oldWeights, W) = epoch(inputData, W, n, teta)\n",
        "    \n",
        "    adjustCount += numAdjusts\n",
        "    \n",
        "    if(numAdjusts == 0):\n",
        "      adjust = False #nao houve alteracoes nos valores dos pesos\n",
        "    else:\n",
        "        if(epochCount == maxEpoch):\n",
        "          break\n",
        "  return (W, epochCount, adjustCount)\n"
      ],
      "execution_count": null,
      "outputs": []
    },
    {
      "cell_type": "code",
      "metadata": {
        "id": "zFGUjb2Yp3ai"
      },
      "source": [
        "def iteration(inputData, w_index, n, teta):\n",
        "  minEpochs = 0\n",
        "  adjusts = []\n",
        "  inputData = addBias(inputData, 1)\n",
        "\n",
        "  for i in range(10):\n",
        "    if(w_index == 0):\n",
        "      W = np.random.uniform(-100, 100, 3)\n",
        "    else:\n",
        "      W = np.random.uniform(-0.5, 0.5, 3)\n",
        "    \n",
        "    (finalWeights, num_epochs, num_adjusts) = perceptronLearningPart2(inputData, W, 0, n, teta)\n",
        "\n",
        "    if(minEpochs > num_epochs or not adjusts):\n",
        "      minEpochs = num_epochs\n",
        "\n",
        "    adjusts.append(num_adjusts)\n",
        "\n",
        "  return ((sum(adjusts) / 10), np.std(adjusts), minEpochs)\n"
      ],
      "execution_count": null,
      "outputs": []
    },
    {
      "cell_type": "code",
      "metadata": {
        "id": "OKmJMatVwFaB",
        "colab": {
          "base_uri": "https://localhost:8080/"
        },
        "outputId": "aaf0d63a-d58a-4649-99d0-30e71bd78c41"
      },
      "source": [
        "PT = PrettyTable()\n",
        "\n",
        "first_row = iteration(data0, 0, 0.4, 0)\n",
        "second_row = iteration(data0, 1, 0.4, 0)\n",
        "third_row = iteration(data0, 0, 0.1, 0)\n",
        "fourth_row = iteration(data0, 1, 0.1, 0)\n",
        "fifth_row = iteration(data0, 0, 0.01, 0)\n",
        "sixth_row = iteration(data0, 1, 0.01, 0)\n",
        "\n",
        "PT.field_names = [\"Taxa de aprendizado\", \"Intervalo de pesos\", \"Media do numero de ajustes\", \"Desvio padrao do numero de ajustes\", \"Menor numero de epocas\"]\n",
        "PT.add_row([\"n=0.4\", \"{-0.5, 0.5}\", first_row[0], first_row[1], first_row[2]])\n",
        "PT.add_row([\"n=0.4\", \"{-100, 100}\", second_row[0], second_row[1], second_row[2]])\n",
        "PT.add_row([\"n=0.1\", \"{-0.5, 0.5}\", third_row[0], third_row[1], third_row[2]])\n",
        "PT.add_row([\"n=0.1\", \"{-100, 100}\", fourth_row[0], fourth_row[1], fourth_row[2]])\n",
        "PT.add_row([\"n=0.01\", \"{-0.5, 0.5}\", fifth_row[0], fifth_row[1], fifth_row[2]])\n",
        "PT.add_row([\"n=0.01\", \"{-100, 100}\", sixth_row[0], sixth_row[1], sixth_row[2]])\n",
        "\n",
        "print(PT)"
      ],
      "execution_count": null,
      "outputs": [
        {
          "output_type": "stream",
          "name": "stdout",
          "text": [
            "+---------------------+--------------------+----------------------------+------------------------------------+------------------------+\n",
            "| Taxa de aprendizado | Intervalo de pesos | Media do numero de ajustes | Desvio padrao do numero de ajustes | Menor numero de epocas |\n",
            "+---------------------+--------------------+----------------------------+------------------------------------+------------------------+\n",
            "|        n=0.4        |    {-0.5, 0.5}     |           227.0            |         171.97557966176475         |           1            |\n",
            "|        n=0.4        |    {-100, 100}     |            7.4             |         2.5377155080899043         |           3            |\n",
            "|        n=0.1        |    {-0.5, 0.5}     |           1438.6           |         450.66244573960233         |           9            |\n",
            "|        n=0.1        |    {-100, 100}     |            10.9            |         5.3376024580330075         |           2            |\n",
            "|        n=0.01       |    {-0.5, 0.5}     |          11054.4           |         6917.827176216532          |           52           |\n",
            "|        n=0.01       |    {-100, 100}     |            58.5            |         25.386019774671254         |           2            |\n",
            "+---------------------+--------------------+----------------------------+------------------------------------+------------------------+\n"
          ]
        }
      ]
    },
    {
      "cell_type": "markdown",
      "metadata": {
        "id": "XdZLFtCI3C3i"
      },
      "source": [
        "# Comentar sobre a tabela"
      ]
    },
    {
      "cell_type": "markdown",
      "metadata": {
        "id": "SfgjlNuZ3MK-"
      },
      "source": [
        "# Parte 3 - Validacao Houlout em Problema Nao-Linearmente Separavel\n",
        "\n",
        "> Para esta parte, iremos utilizar o arquivo dataHoldout.txt;\n",
        "\n",
        "> O neurônio perceptron terá as seguintes características:\n",
        "\n",
        "\n",
        "\n",
        "\n",
        "\n",
        "\n",
        "\n",
        "\n",
        "\n"
      ]
    },
    {
      "cell_type": "code",
      "metadata": {
        "colab": {
          "base_uri": "https://localhost:8080/"
        },
        "id": "LLOIsZgOYa1L",
        "outputId": "1aaa9ba6-c290-4b3e-d3e9-96ca96f3195b"
      },
      "source": [
        "n = 0.1 #Taxa de aprendizado\n",
        "teta = 0 #Degrau usado na função de ativação\n",
        "w = np.random.uniform(-0.5, 0.5, (1, 3)) #Vetor de pesos inicial\n",
        "print(\"Vetor inicial de pesos: {}\\n\".format(w[0]))\n",
        " \n",
        "def funcao(u): #Função de ativação\n",
        "  if(u >= teta):\n",
        "    return 1\n",
        "  else:\n",
        "    return 0\n",
        " \n",
        "i = 0\n",
        "ult_indice = len(dados_All) - 1\n",
        "encerrar = True\n",
        "qtd_epocas = 0\n",
        "total_ajustes = 0\n",
        " \n",
        "while i <= ult_indice:\n",
        "  \n",
        "  if (i == 0): #Verifica a a quantidade de épocas\n",
        "    qtd_epocas += 1\n",
        "    print('Época: {}'.format(qtd_epocas))\n",
        "  \n",
        "  linha = dados_All[i]\n",
        "  yd = linha[2]\n",
        "  x = np.array([-1, linha[0], linha[1]])\n",
        " \n",
        "  u = 0\n",
        "  for j in range(3):\n",
        "    u += (x[j] * w[-1][j])\n",
        " \n",
        "  y = funcao(u) #Chama a função de ativação\n",
        "  e = yd - y #Erro\n",
        " \n",
        "  if (e != 0): #Há necessidade de aprendizagem\n",
        "    print('Ajuste do peso: {} -> Exemplo: {}'.format(w[-1], i + 1))\n",
        "    peso_novo = np.array([w[-1] + ((n * e) * x)]) #Delta\n",
        "    w = np.append(w, peso_novo, axis=0) #Começa a próxima época\n",
        "    encerrar = False\n",
        "    total_ajustes += 1\n",
        " \n",
        "  if (ult_indice == i): #Última linha\n",
        "    print('Número de ajustes: {}'.format(total_ajustes))\n",
        "    print('Vetor de pesos: ', w[-1])\n",
        "    print('\\n')\n",
        "    if (encerrar == False):\n",
        "      total_ajustes = 0\n",
        "      encerrar = True\n",
        "      i = -1 #Vai para o começo do array de dados\n",
        " \n",
        "  i += 1\n",
        " \n",
        "print('Total de ajustes: ', len(w) - 1)\n",
        "print('Total de épocas: ', qtd_epocas)"
      ],
      "execution_count": null,
      "outputs": [
        {
          "output_type": "stream",
          "name": "stdout",
          "text": [
            "Vetor inicial de pesos: [-0.01377581 -0.25390031 -0.20273453]\n",
            "\n",
            "Época: 1\n",
            "Ajuste do peso: [-0.01377581 -0.25390031 -0.20273453] -> Exemplo: 1\n",
            "Ajuste do peso: [  0.08622419  36.12493969 -24.61696453] -> Exemplo: 4\n",
            "Ajuste do peso: [   0.18622419  -17.53411031 -101.11271453] -> Exemplo: 8\n",
            "Ajuste do peso: [  0.08622419  55.26190969 -65.28315453] -> Exemplo: 19\n",
            "Ajuste do peso: [-1.37758150e-02  1.37860610e+02  1.45726755e+01] -> Exemplo: 27\n",
            "Ajuste do peso: [ 8.62241850e-02  1.43706370e+02 -6.37219145e+01] -> Exemplo: 32\n",
            "Ajuste do peso: [   0.18622419  103.69745969 -141.61460453] -> Exemplo: 44\n",
            "Ajuste do peso: [  0.28622419 157.36726969 -92.52233453] -> Exemplo: 46\n",
            "Ajuste do peso: [   0.18622419  104.40720969 -149.39179453] -> Exemplo: 48\n",
            "Ajuste do peso: [  0.28622419 163.96672969 -99.26946453] -> Exemplo: 72\n",
            "Ajuste do peso: [   0.18622419  118.44209969 -164.90539453] -> Exemplo: 108\n",
            "Ajuste do peso: [  0.28622419 209.15795969 -90.19207453] -> Exemplo: 111\n",
            "Ajuste do peso: [   0.18622419  151.37696969 -150.50022453] -> Exemplo: 605\n",
            "Ajuste do peso: [ 8.62241850e-02  1.03110410e+02 -1.98969945e+02] -> Exemplo: 614\n",
            "Ajuste do peso: [-1.37758150e-02  1.73557760e+02 -1.56853675e+02] -> Exemplo: 634\n",
            "Ajuste do peso: [-1.13775815e-01  1.26715760e+02 -2.08263545e+02] -> Exemplo: 636\n",
            "Ajuste do peso: [  -0.21377581  196.57938969 -144.04460453] -> Exemplo: 656\n",
            "Ajuste do peso: [-1.13775815e-01  1.40743660e+02 -2.00222135e+02] -> Exemplo: 664\n",
            "Ajuste do peso: [-2.13775815e-01  2.17731130e+02 -1.35372805e+02] -> Exemplo: 667\n",
            "Ajuste do peso: [  -0.31377581  181.46108969 -178.60084453] -> Exemplo: 742\n",
            "Ajuste do peso: [  -0.21377581  163.22194969 -196.93448453] -> Exemplo: 763\n",
            "Ajuste do peso: [  -0.31377581  238.64438969 -130.87937453] -> Exemplo: 784\n",
            "Ajuste do peso: [  -0.41377581  174.28525969 -213.30181453] -> Exemplo: 820\n",
            "Ajuste do peso: [  -0.31377581  265.59346969 -130.03104453] -> Exemplo: 829\n",
            "Número de ajustes: 24\n",
            "Vetor de pesos:  [  -0.41377581  218.54863969 -217.93498453]\n",
            "\n",
            "\n",
            "Época: 2\n",
            "Número de ajustes: 0\n",
            "Vetor de pesos:  [  -0.41377581  218.54863969 -217.93498453]\n",
            "\n",
            "\n",
            "Total de ajustes:  24\n",
            "Total de épocas:  2\n"
          ]
        }
      ]
    }
  ]
}