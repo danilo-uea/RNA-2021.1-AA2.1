{
  "nbformat": 4,
  "nbformat_minor": 0,
  "metadata": {
    "colab": {
      "name": "RNA_AA_2_1.ipynb",
      "provenance": [],
      "mount_file_id": "1i_NvkIhr55nIzMHGn0pP4M340GqEGXl8",
      "authorship_tag": "ABX9TyMtb6H6c3D6WNnm0e+2ZUAR",
      "include_colab_link": true
    },
    "kernelspec": {
      "name": "python3",
      "display_name": "Python 3"
    },
    "language_info": {
      "name": "python"
    }
  },
  "cells": [
    {
      "cell_type": "markdown",
      "metadata": {
        "id": "view-in-github",
        "colab_type": "text"
      },
      "source": [
        "<a href=\"https://colab.research.google.com/github/danilo-uea/RNA-2021.1-AA2.1/blob/main/RNA_AA_2_1.ipynb\" target=\"_parent\"><img src=\"https://colab.research.google.com/assets/colab-badge.svg\" alt=\"Open In Colab\"/></a>"
      ]
    },
    {
      "cell_type": "code",
      "metadata": {
        "id": "wLxdD7AsVj4-"
      },
      "source": [
        "import numpy as np\n",
        "import matplotlib.pyplot as plt"
      ],
      "execution_count": 16,
      "outputs": []
    },
    {
      "cell_type": "markdown",
      "metadata": {
        "id": "g-alomggW4A3"
      },
      "source": [
        "##Importando os dados"
      ]
    },
    {
      "cell_type": "code",
      "metadata": {
        "id": "58Qj91d5W1Vh"
      },
      "source": [
        "def import_dados(caminho):\n",
        "  dt = np.dtype(float)\n",
        "  arq = np.fromfile(caminho, dtype=dt)\n",
        "\n",
        "  ret = np.empty((0, 3), float)\n",
        "\n",
        "  for i in range(0, len(arq), 3):\n",
        "    linha = np.array([[arq[i], arq[i+1], arq[i+2]]])\n",
        "    ret = np.append(ret, linha, axis=0)\n",
        "\n",
        "  return ret\n",
        "\n",
        "filename = '/content/drive/MyDrive/dados_colab/RNA/data/dataAll.txt'\n",
        "dados_All = import_dados(filename)"
      ],
      "execution_count": 17,
      "outputs": []
    },
    {
      "cell_type": "markdown",
      "metadata": {
        "id": "jROMW1R4Ysuz"
      },
      "source": [
        "##Perceptron\n",
        "Algoritmo de treinamento do perceptron"
      ]
    },
    {
      "cell_type": "code",
      "metadata": {
        "colab": {
          "base_uri": "https://localhost:8080/"
        },
        "id": "LLOIsZgOYa1L",
        "outputId": "1aaa9ba6-c290-4b3e-d3e9-96ca96f3195b"
      },
      "source": [
        "n = 0.1 #Taxa de aprendizado\n",
        "teta = 0 #Degrau usado na função de ativação\n",
        "w = np.random.uniform(-0.5, 0.5, (1, 3)) #Vetor de pesos inicial\n",
        "print(\"Vetor inicial de pesos: {}\\n\".format(w[0]))\n",
        " \n",
        "def funcao(u): #Função de ativação\n",
        "  if(u >= teta):\n",
        "    return 1\n",
        "  else:\n",
        "    return 0\n",
        " \n",
        "i = 0\n",
        "ult_indice = len(dados_All) - 1\n",
        "encerrar = True\n",
        "qtd_epocas = 0\n",
        "total_ajustes = 0\n",
        " \n",
        "while i <= ult_indice:\n",
        "  \n",
        "  if (i == 0): #Verifica a a quantidade de épocas\n",
        "    qtd_epocas += 1\n",
        "    print('Época: {}'.format(qtd_epocas))\n",
        "  \n",
        "  linha = dados_All[i]\n",
        "  yd = linha[2]\n",
        "  x = np.array([-1, linha[0], linha[1]])\n",
        " \n",
        "  u = 0\n",
        "  for j in range(3):\n",
        "    u += (x[j] * w[-1][j])\n",
        " \n",
        "  y = funcao(u) #Chama a função de ativação\n",
        "  e = yd - y #Erro\n",
        " \n",
        "  if (e != 0): #Há necessidade de aprendizagem\n",
        "    print('Ajuste do peso: {} -> Exemplo: {}'.format(w[-1], i + 1))\n",
        "    peso_novo = np.array([w[-1] + ((n * e) * x)]) #Delta\n",
        "    w = np.append(w, peso_novo, axis=0) #Começa a próxima época\n",
        "    encerrar = False\n",
        "    total_ajustes += 1\n",
        " \n",
        "  if (ult_indice == i): #Última linha\n",
        "    print('Número de ajustes: {}'.format(total_ajustes))\n",
        "    print('Vetor de pesos: ', w[-1])\n",
        "    print('\\n')\n",
        "    if (encerrar == False):\n",
        "      total_ajustes = 0\n",
        "      encerrar = True\n",
        "      i = -1 #Vai para o começo do array de dados\n",
        " \n",
        "  i += 1\n",
        " \n",
        "print('Total de ajustes: ', len(w) - 1)\n",
        "print('Total de épocas: ', qtd_epocas)"
      ],
      "execution_count": 18,
      "outputs": [
        {
          "output_type": "stream",
          "name": "stdout",
          "text": [
            "Vetor inicial de pesos: [-0.01377581 -0.25390031 -0.20273453]\n",
            "\n",
            "Época: 1\n",
            "Ajuste do peso: [-0.01377581 -0.25390031 -0.20273453] -> Exemplo: 1\n",
            "Ajuste do peso: [  0.08622419  36.12493969 -24.61696453] -> Exemplo: 4\n",
            "Ajuste do peso: [   0.18622419  -17.53411031 -101.11271453] -> Exemplo: 8\n",
            "Ajuste do peso: [  0.08622419  55.26190969 -65.28315453] -> Exemplo: 19\n",
            "Ajuste do peso: [-1.37758150e-02  1.37860610e+02  1.45726755e+01] -> Exemplo: 27\n",
            "Ajuste do peso: [ 8.62241850e-02  1.43706370e+02 -6.37219145e+01] -> Exemplo: 32\n",
            "Ajuste do peso: [   0.18622419  103.69745969 -141.61460453] -> Exemplo: 44\n",
            "Ajuste do peso: [  0.28622419 157.36726969 -92.52233453] -> Exemplo: 46\n",
            "Ajuste do peso: [   0.18622419  104.40720969 -149.39179453] -> Exemplo: 48\n",
            "Ajuste do peso: [  0.28622419 163.96672969 -99.26946453] -> Exemplo: 72\n",
            "Ajuste do peso: [   0.18622419  118.44209969 -164.90539453] -> Exemplo: 108\n",
            "Ajuste do peso: [  0.28622419 209.15795969 -90.19207453] -> Exemplo: 111\n",
            "Ajuste do peso: [   0.18622419  151.37696969 -150.50022453] -> Exemplo: 605\n",
            "Ajuste do peso: [ 8.62241850e-02  1.03110410e+02 -1.98969945e+02] -> Exemplo: 614\n",
            "Ajuste do peso: [-1.37758150e-02  1.73557760e+02 -1.56853675e+02] -> Exemplo: 634\n",
            "Ajuste do peso: [-1.13775815e-01  1.26715760e+02 -2.08263545e+02] -> Exemplo: 636\n",
            "Ajuste do peso: [  -0.21377581  196.57938969 -144.04460453] -> Exemplo: 656\n",
            "Ajuste do peso: [-1.13775815e-01  1.40743660e+02 -2.00222135e+02] -> Exemplo: 664\n",
            "Ajuste do peso: [-2.13775815e-01  2.17731130e+02 -1.35372805e+02] -> Exemplo: 667\n",
            "Ajuste do peso: [  -0.31377581  181.46108969 -178.60084453] -> Exemplo: 742\n",
            "Ajuste do peso: [  -0.21377581  163.22194969 -196.93448453] -> Exemplo: 763\n",
            "Ajuste do peso: [  -0.31377581  238.64438969 -130.87937453] -> Exemplo: 784\n",
            "Ajuste do peso: [  -0.41377581  174.28525969 -213.30181453] -> Exemplo: 820\n",
            "Ajuste do peso: [  -0.31377581  265.59346969 -130.03104453] -> Exemplo: 829\n",
            "Número de ajustes: 24\n",
            "Vetor de pesos:  [  -0.41377581  218.54863969 -217.93498453]\n",
            "\n",
            "\n",
            "Época: 2\n",
            "Número de ajustes: 0\n",
            "Vetor de pesos:  [  -0.41377581  218.54863969 -217.93498453]\n",
            "\n",
            "\n",
            "Total de ajustes:  24\n",
            "Total de épocas:  2\n"
          ]
        }
      ]
    }
  ]
}