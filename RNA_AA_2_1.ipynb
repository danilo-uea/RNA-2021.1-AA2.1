{
  "nbformat": 4,
  "nbformat_minor": 0,
  "metadata": {
    "colab": {
      "name": "RNA_AA_2_1.ipynb",
      "provenance": [],
      "include_colab_link": true
    },
    "kernelspec": {
      "name": "python3",
      "display_name": "Python 3"
    },
    "language_info": {
      "name": "python"
    }
  },
  "cells": [
    {
      "cell_type": "markdown",
      "metadata": {
        "id": "view-in-github",
        "colab_type": "text"
      },
      "source": [
        "<a href=\"https://colab.research.google.com/github/danilo-uea/RNA-2021.1-AA2.1/blob/main/RNA_AA_2_1.ipynb\" target=\"_parent\"><img src=\"https://colab.research.google.com/assets/colab-badge.svg\" alt=\"Open In Colab\"/></a>"
      ]
    },
    {
      "cell_type": "markdown",
      "metadata": {
        "id": "1Ok_1jxEk3L6"
      },
      "source": [
        "# Redes Neurais Artificiais - Atividade Avaliativa 2.1\n",
        "> Criado por: Danilo Frazão, Rafael Aragão Morais & Yasser Tuma\n",
        "\n",
        "\n"
      ]
    },
    {
      "cell_type": "code",
      "metadata": {
        "id": "wLxdD7AsVj4-"
      },
      "source": [
        "import numpy as np\n",
        "import random\n",
        "import math\n",
        "import matplotlib.pyplot as plt"
      ],
      "execution_count": 61,
      "outputs": []
    },
    {
      "cell_type": "code",
      "metadata": {
        "id": "tqVvc9x1g5yD",
        "colab": {
          "base_uri": "https://localhost:8080/"
        },
        "outputId": "eebe2b2d-6692-463f-8e73-9b617feb6d40"
      },
      "source": [
        "from google.colab import drive\n",
        "drive.mount('/content/drive')"
      ],
      "execution_count": 62,
      "outputs": [
        {
          "output_type": "stream",
          "name": "stdout",
          "text": [
            "Drive already mounted at /content/drive; to attempt to forcibly remount, call drive.mount(\"/content/drive\", force_remount=True).\n"
          ]
        }
      ]
    },
    {
      "cell_type": "markdown",
      "metadata": {
        "id": "BPSOUUfm5IFI"
      },
      "source": [
        "## Parte I - Resolvendo um problema linearmente separavel\n",
        "\n",
        "\n",
        "\n",
        "> Para esta parte, iremos utilizar o arquivo dataAll.txt;\n",
        "\n",
        "> O neurônio perceptron terá as seguintes características:\n",
        "\n",
        "*   Função de ativação degrau com limiar = 0,\n",
        "\n",
        "*   Taxa de aprendizado = 0.1,\n",
        "\n",
        "*   Os pesos das entradas inicialmente serão valores aleatórios no intervalo de -0.5 e 0.5 .\n",
        "\n",
        "\n",
        "\n",
        "\n",
        "\n",
        "\n"
      ]
    },
    {
      "cell_type": "markdown",
      "metadata": {
        "id": "g-alomggW4A3"
      },
      "source": [
        "###Importando os dados\n",
        "\n",
        "> O arquivo com os dados está armazenado em uma pasta do Google Drive, como é um arquivo em binario, iremos utilizar a biblioteca numpy para extrair os dados.\n",
        "\n"
      ]
    },
    {
      "cell_type": "code",
      "metadata": {
        "id": "mjras9tHKNdI"
      },
      "source": [
        "def import_data(path):\n",
        "  dt = np.dtype(float)\n",
        "  arq = np.fromfile(path, dtype=dt)\n",
        "\n",
        "  ret = np.empty((0, 3), float)\n",
        "\n",
        "  for i in range(0, len(arq), 3):\n",
        "    linha = np.array([[arq[i], arq[i+1], arq[i+2]]])\n",
        "    ret = np.append(ret, linha, axis=0)\n",
        "\n",
        "  return ret\n"
      ],
      "execution_count": 63,
      "outputs": []
    },
    {
      "cell_type": "code",
      "metadata": {
        "id": "58Qj91d5W1Vh",
        "colab": {
          "base_uri": "https://localhost:8080/"
        },
        "outputId": "ce6d1160-c88d-4ac1-aaa7-72c003462da7"
      },
      "source": [
        "drivePath = \"/content/drive/My Drive/Colab Notebooks/RNA/data/dataAll.txt\"\n",
        "data_All = import_data(drivePath)\n",
        "data_All"
      ],
      "execution_count": 64,
      "outputs": [
        {
          "output_type": "execute_result",
          "data": {
            "text/plain": [
              "array([[-363.7884,  244.1423,    0.    ],\n",
              "       [ 328.7572, -256.7658,    1.    ],\n",
              "       [-164.9827,  613.2164,    0.    ],\n",
              "       ...,\n",
              "       [ 872.4311,  669.1192,    1.    ],\n",
              "       [ 822.6894, -702.6489,    1.    ],\n",
              "       [-140.147 ,  734.0983,    0.    ]])"
            ]
          },
          "metadata": {},
          "execution_count": 64
        }
      ]
    },
    {
      "cell_type": "markdown",
      "metadata": {
        "id": "jROMW1R4Ysuz"
      },
      "source": [
        "##Perceptron\n",
        "Algoritmo de treinamento do perceptron"
      ]
    },
    {
      "cell_type": "code",
      "metadata": {
        "id": "qn1KHjFYUwCK"
      },
      "source": [
        "def activationFunction(u):\n",
        "  if(u >= 0):\n",
        "    return 1\n",
        "  else:\n",
        "    return 0"
      ],
      "execution_count": 65,
      "outputs": []
    },
    {
      "cell_type": "code",
      "metadata": {
        "id": "uDJdoEQDBcA5"
      },
      "source": [
        "def sumFunction(X, W):\n",
        "  sum = 0\n",
        "  for x,w in zip(X,W):\n",
        "    sum += x*w\n",
        "  return sum"
      ],
      "execution_count": 66,
      "outputs": []
    },
    {
      "cell_type": "code",
      "metadata": {
        "id": "Cc-2-A-jCmKK"
      },
      "source": [
        "def weightAdjustment(W, n, e, X):\n",
        "  delta = np.dot((n*e), X)\n",
        "  new_weight = np.add(W, delta);\n",
        "  return new_weight"
      ],
      "execution_count": 67,
      "outputs": []
    },
    {
      "cell_type": "code",
      "metadata": {
        "id": "_SWqjn7TFPMd"
      },
      "source": [
        "def epoch(inputData, W, n):\n",
        "  adjusts = 0;\n",
        "  weights = []\n",
        "  for row in inputData:\n",
        "    sum = sumFunction(row[:-1], W)\n",
        "    yp = activationFunction(sum)\n",
        "    if(row[-1] != yp):\n",
        "      adjusts += 1;\n",
        "      W = weightAdjustment(W, n, (row[-1] - yp), row[:-1])\n",
        "      weights.append(W)\n",
        "  return (adjusts, weights, W)\n",
        "\n"
      ],
      "execution_count": 74,
      "outputs": []
    },
    {
      "cell_type": "code",
      "metadata": {
        "id": "175ZiDJCVTKS"
      },
      "source": [
        "def perceptronLearning(inputData, W, maxEpoch, n):\n",
        "  epochCount = 0\n",
        "  adjustCount = 0\n",
        "  adjust = True\n",
        "  while((epochCount < maxEpoch) or adjust):\n",
        "    epochCount += 1\n",
        "    (numAdjusts, oldWeights, W) = epoch(inputData, W, n)\n",
        "    print(\"\\nNumero de epocas: \" + str(epochCount))\n",
        "    print(\"Numero de ajustes: \" + str(numAdjusts))\n",
        "    print(\"Pesos: \")\n",
        "    for weight in oldWeights:\n",
        "      print(weight)\n",
        "    adjustCount += numAdjusts\n",
        "    if(numAdjusts == 0):\n",
        "      adjust = 0 #nao houve alteracoes nos valores dos pesos\n",
        "  print(\"Numero total de ajustes: \" + str(adjustCount))\n",
        "  print(\"Pesos finais: \")\n",
        "  print(W)\n",
        "  return W\n"
      ],
      "execution_count": 76,
      "outputs": []
    },
    {
      "cell_type": "code",
      "metadata": {
        "id": "6dXhZhExL-gv"
      },
      "source": [
        "def addBias(inputData, bias):\n",
        "  nd= np.insert(inputData, 2, bias, axis=1)\n",
        "  return nd\n"
      ],
      "execution_count": 70,
      "outputs": []
    },
    {
      "cell_type": "code",
      "metadata": {
        "colab": {
          "base_uri": "https://localhost:8080/"
        },
        "id": "L14IqwkNTjwF",
        "outputId": "c8f6bfff-6aa2-4f01-de6f-5ba0c580f808"
      },
      "source": [
        "n_DataAll = 0.1 # taxa de aprendizado\n",
        "teta_DataAll = 0 #degrau\n",
        "w_DataAll = np.random.uniform(-0.5, 0.5, 3) #min, max, numero_de_valores\n",
        "print(\"Vetor de pesos iniciais: \")\n",
        "print(w_DataAll)\n",
        "data_All = addBias(data_All, 1)\n",
        "print(\"\\n\\nDados de entrada com o vies: \\n\")\n",
        "data_All"
      ],
      "execution_count": 71,
      "outputs": [
        {
          "output_type": "stream",
          "name": "stdout",
          "text": [
            "Vetor de pesos iniciais: \n",
            "[ 0.45810407  0.25968084 -0.39622453]\n",
            "\n",
            "\n",
            "Dados de entrada com o vies: \n",
            "\n"
          ]
        },
        {
          "output_type": "execute_result",
          "data": {
            "text/plain": [
              "array([[-363.7884,  244.1423,    1.    ,    0.    ],\n",
              "       [ 328.7572, -256.7658,    1.    ,    1.    ],\n",
              "       [-164.9827,  613.2164,    1.    ,    0.    ],\n",
              "       ...,\n",
              "       [ 872.4311,  669.1192,    1.    ,    1.    ],\n",
              "       [ 822.6894, -702.6489,    1.    ,    1.    ],\n",
              "       [-140.147 ,  734.0983,    1.    ,    0.    ]])"
            ]
          },
          "metadata": {},
          "execution_count": 71
        }
      ]
    },
    {
      "cell_type": "code",
      "metadata": {
        "colab": {
          "base_uri": "https://localhost:8080/"
        },
        "id": "6nuKTAQGR-gq",
        "outputId": "217ec263-e88f-4768-f90f-c0bd9719b1ef"
      },
      "source": [
        "perceptronLearning(data_All, w_DataAll, 0, n_DataAll)"
      ],
      "execution_count": 78,
      "outputs": [
        {
          "output_type": "stream",
          "name": "stdout",
          "text": [
            "\n",
            "Numero de epocas: 1\n",
            "Numero de ajustes: 47\n",
            "Pesos: \n",
            "[ 16.95637407 -61.06195916  -0.49622453]\n",
            "[ 89.75239407 -25.23239916  -0.39622453]\n",
            "[   6.22278407 -124.35822916   -0.49622453]\n",
            "[  55.40964407 -107.72949916   -0.59622453]\n",
            "[138.00834407 -27.87366916  -0.49622453]\n",
            "[  97.99943407 -105.76635916   -0.59622453]\n",
            "[147.46025407 -56.87230916  -0.69622453]\n",
            "[ 107.91100407 -153.96634916   -0.79622453]\n",
            "[200.15298407 -67.49377916  -0.89622453]\n",
            "[188.25587407 -95.39331916  -0.99622453]\n",
            "[ 160.04841407 -128.97743916   -1.09622453]\n",
            "[  95.75920407 -197.04206916   -0.99622453]\n",
            "[ 148.86352407 -161.26266916   -0.89622453]\n",
            "[ 213.85468407 -100.37098916   -0.99622453]\n",
            "[ 162.92110407 -163.77095916   -0.89622453]\n",
            "[250.05586407 -77.08112916  -0.99622453]\n",
            "[ 198.14053407 -133.28214916   -1.09622453]\n",
            "[ 133.25450407 -207.89823916   -1.19622453]\n",
            "[ 200.29215407 -157.73173916   -1.09622453]\n",
            "[ 122.82920407 -255.71944916   -0.99622453]\n",
            "[ 207.68008407 -194.44606916   -1.09622453]\n",
            "[ 141.00525407 -264.34139916   -0.99622453]\n",
            "[ 172.45564407 -239.90999916   -1.09622453]\n",
            "[ 235.35295407 -181.72303916   -0.99622453]\n",
            "[ 186.23582407 -233.57193916   -1.09622453]\n",
            "[ 278.15409407 -151.25682916   -0.99622453]\n",
            "[ 232.79470407 -231.40422916   -1.09622453]\n",
            "[ 184.52814407 -279.87394916   -0.99622453]\n",
            "[ 254.39177407 -215.65500916   -0.89622453]\n",
            "[ 198.55604407 -271.83253916   -0.99622453]\n",
            "[ 275.54351407 -206.98320916   -0.89622453]\n",
            "[ 239.27347407 -250.21124916   -0.79622453]\n",
            "[ 322.16534407 -167.42975916   -0.69622453]\n",
            "[ 276.01796407 -224.07913916   -0.59622453]\n",
            "[ 249.39234407 -256.60150916   -0.69622453]\n",
            "[ 296.41670407 -210.04733916   -0.59622453]\n",
            "[ 266.53264407 -243.15666916   -0.49622453]\n",
            "[ 248.29350407 -261.49030916   -0.59622453]\n",
            "[ 279.60038407 -230.86198916   -0.69622453]\n",
            "[ 204.04648407 -308.18493916   -0.79622453]\n",
            "[ 273.02237407 -243.39400916   -0.89622453]\n",
            "[ 177.21082407 -341.27574916   -0.99622453]\n",
            "[ 258.38455407 -289.92780916   -0.89622453]\n",
            "[ 357.85238407 -198.03824916   -0.99622453]\n",
            "[ 299.14746407 -290.37549916   -0.89622453]\n",
            "[ 255.28933407 -334.91450916   -0.99622453]\n",
            "[ 342.53244407 -268.00258916   -0.89622453]\n",
            "\n",
            "Numero de epocas: 2\n",
            "Numero de ajustes: 11\n",
            "Pesos: \n",
            "[ 311.10947407 -302.38633916   -0.99622453]\n",
            "[ 261.19965407 -353.64676916   -0.89622453]\n",
            "[ 288.66324407 -332.79041916   -0.79622453]\n",
            "[ 338.12406407 -283.89636916   -0.89622453]\n",
            "[ 309.91660407 -317.48048916   -0.99622453]\n",
            "[ 397.05136407 -230.79065916   -1.09622453]\n",
            "[ 345.13603407 -286.99167916   -1.19622453]\n",
            "[ 280.25000407 -361.60776916   -1.29622453]\n",
            "[ 369.95880407 -282.59904916   -1.19622453]\n",
            "[ 292.49585407 -380.58675916   -1.09622453]\n",
            "[ 337.40119407 -337.18281916   -0.99622453]\n",
            "\n",
            "Numero de epocas: 3\n",
            "Numero de ajustes: 0\n",
            "Pesos: \n",
            "Numero total de ajustes: 58\n",
            "Pesos finais: \n",
            "[ 337.40119407 -337.18281916   -0.99622453]\n"
          ]
        },
        {
          "output_type": "execute_result",
          "data": {
            "text/plain": [
              "array([ 337.40119407, -337.18281916,   -0.99622453])"
            ]
          },
          "metadata": {},
          "execution_count": 78
        }
      ]
    },
    {
      "cell_type": "code",
      "metadata": {
        "colab": {
          "base_uri": "https://localhost:8080/"
        },
        "id": "LLOIsZgOYa1L",
        "outputId": "1aaa9ba6-c290-4b3e-d3e9-96ca96f3195b"
      },
      "source": [
        "n = 0.1 #Taxa de aprendizado\n",
        "teta = 0 #Degrau usado na função de ativação\n",
        "w = np.random.uniform(-0.5, 0.5, (1, 3)) #Vetor de pesos inicial\n",
        "print(\"Vetor inicial de pesos: {}\\n\".format(w[0]))\n",
        " \n",
        "def funcao(u): #Função de ativação\n",
        "  if(u >= teta):\n",
        "    return 1\n",
        "  else:\n",
        "    return 0\n",
        " \n",
        "i = 0\n",
        "ult_indice = len(dados_All) - 1\n",
        "encerrar = True\n",
        "qtd_epocas = 0\n",
        "total_ajustes = 0\n",
        " \n",
        "while i <= ult_indice:\n",
        "  \n",
        "  if (i == 0): #Verifica a a quantidade de épocas\n",
        "    qtd_epocas += 1\n",
        "    print('Época: {}'.format(qtd_epocas))\n",
        "  \n",
        "  linha = dados_All[i]\n",
        "  yd = linha[2]\n",
        "  x = np.array([-1, linha[0], linha[1]])\n",
        " \n",
        "  u = 0\n",
        "  for j in range(3):\n",
        "    u += (x[j] * w[-1][j])\n",
        " \n",
        "  y = funcao(u) #Chama a função de ativação\n",
        "  e = yd - y #Erro\n",
        " \n",
        "  if (e != 0): #Há necessidade de aprendizagem\n",
        "    print('Ajuste do peso: {} -> Exemplo: {}'.format(w[-1], i + 1))\n",
        "    peso_novo = np.array([w[-1] + ((n * e) * x)]) #Delta\n",
        "    w = np.append(w, peso_novo, axis=0) #Começa a próxima época\n",
        "    encerrar = False\n",
        "    total_ajustes += 1\n",
        " \n",
        "  if (ult_indice == i): #Última linha\n",
        "    print('Número de ajustes: {}'.format(total_ajustes))\n",
        "    print('Vetor de pesos: ', w[-1])\n",
        "    print('\\n')\n",
        "    if (encerrar == False):\n",
        "      total_ajustes = 0\n",
        "      encerrar = True\n",
        "      i = -1 #Vai para o começo do array de dados\n",
        " \n",
        "  i += 1\n",
        " \n",
        "print('Total de ajustes: ', len(w) - 1)\n",
        "print('Total de épocas: ', qtd_epocas)"
      ],
      "execution_count": null,
      "outputs": [
        {
          "output_type": "stream",
          "name": "stdout",
          "text": [
            "Vetor inicial de pesos: [-0.01377581 -0.25390031 -0.20273453]\n",
            "\n",
            "Época: 1\n",
            "Ajuste do peso: [-0.01377581 -0.25390031 -0.20273453] -> Exemplo: 1\n",
            "Ajuste do peso: [  0.08622419  36.12493969 -24.61696453] -> Exemplo: 4\n",
            "Ajuste do peso: [   0.18622419  -17.53411031 -101.11271453] -> Exemplo: 8\n",
            "Ajuste do peso: [  0.08622419  55.26190969 -65.28315453] -> Exemplo: 19\n",
            "Ajuste do peso: [-1.37758150e-02  1.37860610e+02  1.45726755e+01] -> Exemplo: 27\n",
            "Ajuste do peso: [ 8.62241850e-02  1.43706370e+02 -6.37219145e+01] -> Exemplo: 32\n",
            "Ajuste do peso: [   0.18622419  103.69745969 -141.61460453] -> Exemplo: 44\n",
            "Ajuste do peso: [  0.28622419 157.36726969 -92.52233453] -> Exemplo: 46\n",
            "Ajuste do peso: [   0.18622419  104.40720969 -149.39179453] -> Exemplo: 48\n",
            "Ajuste do peso: [  0.28622419 163.96672969 -99.26946453] -> Exemplo: 72\n",
            "Ajuste do peso: [   0.18622419  118.44209969 -164.90539453] -> Exemplo: 108\n",
            "Ajuste do peso: [  0.28622419 209.15795969 -90.19207453] -> Exemplo: 111\n",
            "Ajuste do peso: [   0.18622419  151.37696969 -150.50022453] -> Exemplo: 605\n",
            "Ajuste do peso: [ 8.62241850e-02  1.03110410e+02 -1.98969945e+02] -> Exemplo: 614\n",
            "Ajuste do peso: [-1.37758150e-02  1.73557760e+02 -1.56853675e+02] -> Exemplo: 634\n",
            "Ajuste do peso: [-1.13775815e-01  1.26715760e+02 -2.08263545e+02] -> Exemplo: 636\n",
            "Ajuste do peso: [  -0.21377581  196.57938969 -144.04460453] -> Exemplo: 656\n",
            "Ajuste do peso: [-1.13775815e-01  1.40743660e+02 -2.00222135e+02] -> Exemplo: 664\n",
            "Ajuste do peso: [-2.13775815e-01  2.17731130e+02 -1.35372805e+02] -> Exemplo: 667\n",
            "Ajuste do peso: [  -0.31377581  181.46108969 -178.60084453] -> Exemplo: 742\n",
            "Ajuste do peso: [  -0.21377581  163.22194969 -196.93448453] -> Exemplo: 763\n",
            "Ajuste do peso: [  -0.31377581  238.64438969 -130.87937453] -> Exemplo: 784\n",
            "Ajuste do peso: [  -0.41377581  174.28525969 -213.30181453] -> Exemplo: 820\n",
            "Ajuste do peso: [  -0.31377581  265.59346969 -130.03104453] -> Exemplo: 829\n",
            "Número de ajustes: 24\n",
            "Vetor de pesos:  [  -0.41377581  218.54863969 -217.93498453]\n",
            "\n",
            "\n",
            "Época: 2\n",
            "Número de ajustes: 0\n",
            "Vetor de pesos:  [  -0.41377581  218.54863969 -217.93498453]\n",
            "\n",
            "\n",
            "Total de ajustes:  24\n",
            "Total de épocas:  2\n"
          ]
        }
      ]
    }
  ]
}